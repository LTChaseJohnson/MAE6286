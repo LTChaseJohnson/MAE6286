{
 "metadata": {
  "name": "final project.ipynb"
 },
 "nbformat": 3,
 "nbformat_minor": 0,
 "worksheets": [
  {
   "cells": [
    {
     "cell_type": "heading",
     "level": 1,
     "metadata": {},
     "source": [
      "No Speeding Allowed"
     ]
    },
    {
     "cell_type": "heading",
     "level": 2,
     "metadata": {},
     "source": [
      "Solution Methods for 1-D Hyperbolic PDEs"
     ]
    },
    {
     "cell_type": "markdown",
     "metadata": {},
     "source": [
      "Welcome to *No Speeding Allowed*, an individual contribution to  [Practical Numerical Methods with Python](http://openedx.seas.gwu.edu/courses/GW/MAE6286/2014_fall/about) focusing on solution methods for hyperbolic PDEs by Chase Johnson.  In this first module we will focus on an explicit finite difference method.  In [previous discussions](http://nbviewer.ipython.org/github/numerical-mooc/numerical-mooc/blob/master/lessons/04_spreadout/01_Heat_Equation_1D_Explicit.ipynb), we've learned that explicit schemes have stability requirements but they are easier to understand and is how we will be introducing second order hyperbolic PDEs.  In the next module, we will graduate to an implicit method that is more complicated, but is unconditionally stable! "
     ]
    },
    {
     "cell_type": "heading",
     "level": 2,
     "metadata": {},
     "source": [
      "Hyperbolic PDEs Defined"
     ]
    },
    {
     "cell_type": "markdown",
     "metadata": {},
     "source": [
      "We know that the general form of a second order PDE is <br/><br/>\n",
      "$a\\frac{\\partial^2 u}{\\partial x^2}+b\\frac{\\partial^2 u}{\\partial x y}+c\\frac{\\partial^2 u}{\\partial y^2}+d\\frac{\\partial u}{\\partial x}+e\\frac{\\partial u}{\\partial y}+fu=g$<br/><br/>\n",
      "If $b^2-4 a c >0$, the PDE is defined as hyperbolic and has wave-like solutions.  This is the reason that hyperbolic PDEs are often referred to as \"wave equations.\"<br/>\n",
      "One of the most important aspects of wave equations that distinguish them from parabolic PDEs (Heat Equation) and elliptical PDEs (Laplace's Equation) is that information or disturbances are transmitted through space-time at a defined speed, hence the title of this lesson.  I encourage you to read further on hyperbolic PDEs and [Wikipedia](http://en.wikipedia.org/wiki/Hyperbolic_partial_differential_equation) has an excellent article."
     ]
    },
    {
     "cell_type": "heading",
     "level": 2,
     "metadata": {},
     "source": [
      "Where do we see Hyperbolic PDEs"
     ]
    },
    {
     "cell_type": "markdown",
     "metadata": {},
     "source": [
      "We have already seen that looking at diffusion will yield parabolic PDEs, but where would we find natural phenomena that would yield hyperbolic PDEs?"
     ]
    },
    {
     "cell_type": "markdown",
     "metadata": {},
     "source": [
      "The most well known second order hyperbolic equation is the wave equation,<br/><br/> $\\frac{\\partial^2 u}{\\partial t^2} = c^2\\frac{\\partial^2 u}{\\partial x^2}$<br/> <br/>and we will study variations of this equation in this section.  Dr. Joel Feldman from the University of British Columbia has a very well written derivation of the wave equation that you can find [here](http://www.math.ubc.ca/~feldman/m256/wave.pdf).  You can also find derivations in References [Brown, Asmar]."
     ]
    },
    {
     "cell_type": "heading",
     "level": 2,
     "metadata": {},
     "source": [
      "Defining the Problem"
     ]
    },
    {
     "cell_type": "markdown",
     "metadata": {},
     "source": [
      "Let's say that we have a string of length $L$ that is fixed at both ends and has a wave speed of $c$.  We've already decided what our boundary conditions are, but what about our initial conditions?  What options could we have?  <br/><br/>\n",
      "The most common is to define an initial position and an initial velocity so our final problem statement is<br/><br/>\n",
      "$\\frac{\\partial^2 u}{\\partial t^2} = c^2\\frac{\\partial^2 u}{\\partial x^2}$ <br/> <br/>\n",
      "With boundary conditions: $u(0,t) = u(L,t) = 0$ <br/> <br/>\n",
      "And initial conditions: $u(x,0) = f(x)$ and $\\frac{\\partial u}{\\partial t} = g(x)$"
     ]
    },
    {
     "cell_type": "heading",
     "level": 2,
     "metadata": {},
     "source": [
      "Explicit Finite Difference"
     ]
    },
    {
     "cell_type": "markdown",
     "metadata": {},
     "source": [
      "So we have two second order terms in our governing equation.  We also have a first order term in in our initial conditions, but we'll get to that later.  We need to match our numerical scheme with the physics of our problem.  We know that waves can travel in either direction, so we don't want to introduce a numerical bias that is only forward or backwards.  We will start by discretizing our governing equation with central difference in both time and space.<br/><br/>\n",
      "Recall that the central difference approximation for a second order derivative is:<br/><br/>\n",
      "$\\frac{d^2 u}{ds^2} \\approx \\frac{u_{i+1}-2u_i+u_{i-1}}{\\Delta s^2}$<br/><br/>\n",
      "Using this definition, rewrite our discretized governing equation and solve for $u_i^{n+1}$.<br/><br/>\n",
      "Using this definition, let's rewrite our discretized governing equation and solve for $u_i^{n+1}$.  We'll step through it together the first time.<br/><br/>\n",
      "Initially rewriting the derivative terms will give us:<br/><br/>\n",
      "$\\frac{u_i^{n+1}-2u_i^n+u_i^{n-1}}{\\Delta t^2} = c^2\\frac{u_{i+1}^n-2u_i^n+u_{i-1}^n}{\\Delta t^2}$<br/><br/>\n",
      "If we make the following substiution, $\\lambda = \\frac{c\\Delta t}{\\Delta x}$, and solve for $u_i^{n+1}$, we get:<br/><br/>\n",
      "$u_i^{n+1} = 2u_i^n(1-\\lambda^2)+\\lambda^2(u_{i+1}^n+u_{i-1}^n)-u_i^{n-1}$<br/><br/>\n",
      "Be sure that you can get the same result before moving on.<br/><br/>\n",
      "If you notice, our discretized governing equation will require values from the previous two time steps meaning that our method is not self starting.  So just like Congress, we are going to have to give it a kickstart to get any meaningful work out of it.  But unlike Congress, our method will continue to work until we tell it to stop!<br/><br/>\n",
      "Let's take a look at our $t=0$ array.  This is where our initial position will be stored and we can easily accomplish this by simply forcing $u(x,0)=f(x)$.<br/>\n",
      "But this only takes care of the first array, and our method will require not only $u(0,x)$ to be populated but also $u(1,x)$ to be populated.<br/>\n",
      "Hmmm...what to do, what to do.  We still have an initial condition that we haven't used yet,<br/> $\\frac{\\partial u(x,0)}{\\partial t}=g(x)$."
     ]
    },
    {
     "cell_type": "markdown",
     "metadata": {},
     "source": [
      "Let's take a look at our $t=0$ array.  This is where our initial position will be stored.<br/>\n",
      "We can easily accomplish this by simply forcing $u(x,0)=f(x)$.<br/>\n",
      "But this only takes care of the first array, and our method will require not only $u(0,x)$ to be populated but also $u(1,x)$ to be populated.  Hmmm...what to do, what to do.<br/>\n",
      "We still have an initial condition that we haven't used yet, $\\frac{\\partial u(x,0)}{\\partial t}=g(x)$."
     ]
    },
    {
     "cell_type": "markdown",
     "metadata": {},
     "source": [
      "Using another finite difference, we can approximate<br/><br/>\n",
      "$u(1,x)=u(0,x)+\\Delta x g(x)$<br/><br/>\n",
      "Now we have numerical solutions for our first and second time steps.  <br/>\n",
      "But...we have a problem.  Did you notice that our approximation for the initial condition is only first order accurate and our governing equation has second order accuracy?  This means that our second time step will be less accurate and will feed our iterative loop propagating our error.  We can do better than this, right?"
     ]
    },
    {
     "cell_type": "markdown",
     "metadata": {},
     "source": [
      "We can derive a $\\mathcal{O}(2)$ approximation for our first time step by considering the series expansion of $u(1,x)$, our second time step around our first time step, $u(0,x)$, which by definition would be a Maclaurin expansion.<br/><br/>\n",
      "$u(1,x)=u(0,x)+\\Delta t\\frac{\\partial}{\\partial t} u(0,x)+\\frac{\\Delta t^2}{2}\\frac{\\partial^2}{\\partial t^2} u(0,x)+\\mathcal{O}(\\Delta t^3)$<br/><br/>\n",
      "Now we have our $\\mathcal{O}(2)$ expression for $u(1,x)$, but we need to find expressions for the terms<br/><br/>\n",
      "$\\frac{\\partial}{\\partial t} u(0,x)$ and $\\frac{\\partial^2}{\\partial t^2} u(0,x)$<br/><br/>\n",
      "Using our governing equation we can show that<br/><br/> $\\frac{\\partial^2}{\\partial t^2}u(0,x) = c^2f\"(x)$ and by definition $\\frac{\\partial}{\\partial t}u(0,x)=g(x)$<br/><br/>\n",
      "Finally, we can get an expression for $u(1,x)$ that is $\\mathcal{O}(2)$ accurate.  Derive this yourself.  $\\mathit{Hint}$: Since we don't want to assume that $f\"(x)$ necessarily exists, break it into another central difference approximation.  You will find:<br/><br/>\n",
      "$u(1,x_i) = (1-\\lambda^2)f(x_i)+\\frac{\\lambda^2}{2}(f(x_{i+1})+f(x_{i-1})+\\Delta t g(x)$"
     ]
    },
    {
     "cell_type": "markdown",
     "metadata": {},
     "source": [
      "All that is left is to program a loop to start populating the third time step based on the first two and to continue until our final time!  There is one last bit to discuss before we get started.  We are working with an explicit scheme, so of course Von Neumann stability analysis needs to be discussed.  Dr. Peter Olver from the University of Minnesota has an excellent breakdown of both a graphical argument and von Neumann analysis that can be found [here](http://www.math.umn.edu/~olver/num_/lnp.pdf).<br/><br/>\n"
     ]
    },
    {
     "cell_type": "markdown",
     "metadata": {},
     "source": [
      "One last bit to discuss before we get started"
     ]
    },
    {
     "cell_type": "markdown",
     "metadata": {},
     "source": [
      "First, let's try to model a guitar string plucked from an at rest position.  This can be modeled with the following problem:<br/><br/>\n",
      "$\\frac{\\partial^2 u}{\\partial t^2}=64\\frac{\\partial^2 u}{\\partial x^2}$<br/>\n",
      "$u(0,t) = u(10,t) = 0$<br/>\n",
      "$u(x,0) = 0$<br/>\n",
      "$\\frac{\\partial u(x,0)}{\\partial t} = 12cos(\\frac{\\pi(x-5)}{10})$"
     ]
    },
    {
     "cell_type": "code",
     "collapsed": false,
     "input": [
      "# Importing our libraries\n",
      "import numpy as np\n",
      "import matplotlib.pyplot as plt"
     ],
     "language": "python",
     "metadata": {},
     "outputs": [],
     "prompt_number": 1
    },
    {
     "cell_type": "code",
     "collapsed": false,
     "input": [
      "#Define Initial Parameters\n",
      "L = 10.\n",
      "nx = 100\n",
      "x = np.linspace(0,L,nx)\n",
      "dx = L/(nx-1)\n",
      "nt = 500\n",
      "c = 8.0\n",
      "dt = 0.5*dx/c #This comes from "
     ],
     "language": "python",
     "metadata": {},
     "outputs": []
    },
    {
     "cell_type": "code",
     "collapsed": false,
     "input": [],
     "language": "python",
     "metadata": {},
     "outputs": []
    },
    {
     "cell_type": "code",
     "collapsed": false,
     "input": [],
     "language": "python",
     "metadata": {},
     "outputs": []
    },
    {
     "cell_type": "code",
     "collapsed": false,
     "input": [
      "from IPython.core.display import HTML\n",
      "css_file = 'C:/Users/DCUnited/Documents/GitHub/numerical-mooc/styles/numericalmoocstyle.css'\n",
      "HTML(open(css_file, \"r\").read())"
     ],
     "language": "python",
     "metadata": {},
     "outputs": [
      {
       "html": [
        "<link href='http://fonts.googleapis.com/css?family=Alegreya+Sans:100,300,400,500,700,800,900,100italic,300italic,400italic,500italic,700italic,800italic,900italic' rel='stylesheet' type='text/css'>\n",
        "<link href='http://fonts.googleapis.com/css?family=Arvo:400,700,400italic' rel='stylesheet' type='text/css'>\n",
        "<link href='http://fonts.googleapis.com/css?family=PT+Mono' rel='stylesheet' type='text/css'>\n",
        "<link href='http://fonts.googleapis.com/css?family=Shadows+Into+Light' rel='stylesheet' type='text/css'>\n",
        "<link href='http://fonts.googleapis.com/css?family=Nixie+One' rel='stylesheet' type='text/css'>\n",
        "<style>\n",
        "\n",
        "@font-face {\n",
        "    font-family: \"Computer Modern\";\n",
        "    src: url('http://mirrors.ctan.org/fonts/cm-unicode/fonts/otf/cmunss.otf');\n",
        "}\n",
        "\n",
        "#notebook_panel { /* main background */\n",
        "    background: rgb(245,245,245);\n",
        "}\n",
        "\n",
        "div.cell { /* set cell width */\n",
        "    width: 750px;\n",
        "}\n",
        "\n",
        "div #notebook { /* centre the content */\n",
        "    background: #fff; /* white background for content */\n",
        "    width: 1000px;\n",
        "    margin: auto;\n",
        "    padding-left: 0em;\n",
        "}\n",
        "\n",
        "#notebook li { /* More space between bullet points */\n",
        "margin-top:0.8em;\n",
        "}\n",
        "\n",
        "/* draw border around running cells */\n",
        "div.cell.border-box-sizing.code_cell.running { \n",
        "    border: 1px solid #111;\n",
        "}\n",
        "\n",
        "/* Put a solid color box around each cell and its output, visually linking them*/\n",
        "div.cell.code_cell {\n",
        "    background-color: rgb(256,256,256); \n",
        "    border-radius: 0px; \n",
        "    padding: 0.5em;\n",
        "    margin-left:1em;\n",
        "    margin-top: 1em;\n",
        "}\n",
        "\n",
        "div.text_cell_render{\n",
        "    font-family: 'Alegreya Sans' sans-serif;\n",
        "    line-height: 140%;\n",
        "    font-size: 125%;\n",
        "    font-weight: 400;\n",
        "    width:600px;\n",
        "    margin-left:auto;\n",
        "    margin-right:auto;\n",
        "}\n",
        "\n",
        "\n",
        "/* Formatting for header cells */\n",
        ".text_cell_render h1 {\n",
        "    font-family: 'Nixie One', serif;\n",
        "    font-style:regular;\n",
        "    font-weight: 400;    \n",
        "    font-size: 45pt;\n",
        "    line-height: 100%;\n",
        "    color: rgb(0,51,102);\n",
        "    margin-bottom: 0.5em;\n",
        "    margin-top: 0.5em;\n",
        "    display: block;\n",
        "}\t\n",
        ".text_cell_render h2 {\n",
        "    font-family: 'Nixie One', serif;\n",
        "    font-weight: 400;\n",
        "    font-size: 30pt;\n",
        "    line-height: 100%;\n",
        "    color: rgb(0,51,102);\n",
        "    margin-bottom: 0.1em;\n",
        "    margin-top: 0.3em;\n",
        "    display: block;\n",
        "}\t\n",
        "\n",
        ".text_cell_render h3 {\n",
        "    font-family: 'Nixie One', serif;\n",
        "    margin-top:16px;\n",
        "\tfont-size: 22pt;\n",
        "    font-weight: 600;\n",
        "    margin-bottom: 3px;\n",
        "    font-style: regular;\n",
        "    color: rgb(102,102,0);\n",
        "}\n",
        "\n",
        ".text_cell_render h4 {    /*Use this for captions*/\n",
        "    font-family: 'Nixie One', serif;\n",
        "    font-size: 14pt;\n",
        "    text-align: center;\n",
        "    margin-top: 0em;\n",
        "    margin-bottom: 2em;\n",
        "    font-style: regular;\n",
        "}\n",
        "\n",
        ".text_cell_render h5 {  /*Use this for small titles*/\n",
        "    font-family: 'Nixie One', sans-serif;\n",
        "    font-weight: 400;\n",
        "    font-size: 16pt;\n",
        "    color: rgb(163,0,0);\n",
        "    font-style: italic;\n",
        "    margin-bottom: .1em;\n",
        "    margin-top: 0.8em;\n",
        "    display: block;\n",
        "}\n",
        "\n",
        ".text_cell_render h6 { /*use this for copyright note*/\n",
        "    font-family: 'PT Mono', sans-serif;\n",
        "    font-weight: 300;\n",
        "    font-size: 9pt;\n",
        "    line-height: 100%;\n",
        "    color: grey;\n",
        "    margin-bottom: 1px;\n",
        "    margin-top: 1px;\n",
        "}\n",
        "\n",
        ".CodeMirror{\n",
        "        font-family: \"PT Mono\";\n",
        "        font-size: 90%;\n",
        "}\n",
        "\n",
        "</style>\n",
        "<script>\n",
        "    MathJax.Hub.Config({\n",
        "                        TeX: {\n",
        "                           extensions: [\"AMSmath.js\"],\n",
        "                           equationNumbers: { autoNumber: \"AMS\", useLabelIds: true}\n",
        "                           },\n",
        "                tex2jax: {\n",
        "                    inlineMath: [ ['$','$'], [\"\\\\(\",\"\\\\)\"] ],\n",
        "                    displayMath: [ ['$$','$$'], [\"\\\\[\",\"\\\\]\"] ]\n",
        "                },\n",
        "                displayAlign: 'center', // Change this to 'center' to center equations.\n",
        "                \"HTML-CSS\": {\n",
        "                    styles: {'.MathJax_Display': {\"margin\": 4}}\n",
        "                }\n",
        "        });\n",
        "</script>\n"
       ],
       "metadata": {},
       "output_type": "pyout",
       "prompt_number": 4,
       "text": [
        "<IPython.core.display.HTML at 0x827a390>"
       ]
      }
     ],
     "prompt_number": 4
    }
   ],
   "metadata": {}
  }
 ]
}