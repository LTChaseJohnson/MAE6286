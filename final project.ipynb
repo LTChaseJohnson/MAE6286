{
 "metadata": {
  "name": "final project.ipynb"
 },
 "nbformat": 3,
 "nbformat_minor": 0,
 "worksheets": [
  {
   "cells": [
    {
     "cell_type": "heading",
     "level": 1,
     "metadata": {},
     "source": [
      "No Speeding Allowed"
     ]
    },
    {
     "cell_type": "heading",
     "level": 2,
     "metadata": {},
     "source": [
      "Solution Methods for Hyperbolic PDEs"
     ]
    },
    {
     "cell_type": "markdown",
     "metadata": {},
     "source": [
      "Welcome to *No Speeding Allowed: Solution Methods for Hyperbolic PDEs*, an individual contribution to  [Practical Numerical Methods with Python](http://openedx.seas.gwu.edu/courses/GW/MAE6286/2014_fall/about) by Chase Johnson."
     ]
    },
    {
     "cell_type": "heading",
     "level": 2,
     "metadata": {},
     "source": [
      "Hyperbolic PDEs Defined"
     ]
    },
    {
     "cell_type": "markdown",
     "metadata": {},
     "source": [
      "We know that the general form of second order partial differential equations is: \\n\n",
      "$a\\frac{\\partial^2u}{\\partial x^2}+b\\frac{\\partial^2 u}{\\partial x y}+c\\frac{\\partial^2u}{\\partial y^2}+d\\frac{\\partial u}{\\partial x}+e\\frac{\\partial u}{\\partial y}+fu=g$ \\n\n",
      "The PDE is said to be hyperbolic if $b^2-4ac>0$."
     ]
    },
    {
     "cell_type": "code",
     "collapsed": false,
     "input": [],
     "language": "python",
     "metadata": {},
     "outputs": []
    }
   ],
   "metadata": {}
  }
 ]
}