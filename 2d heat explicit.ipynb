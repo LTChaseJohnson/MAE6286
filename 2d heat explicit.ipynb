{
 "metadata": {
  "name": "2d heat explicit.ipynb"
 },
 "nbformat": 3,
 "nbformat_minor": 0,
 "worksheets": [
  {
   "cells": [
    {
     "cell_type": "code",
     "collapsed": false,
     "input": [
      "import numpy as np\n",
      "import matplotlib.pyplot as plt"
     ],
     "language": "python",
     "metadata": {},
     "outputs": [],
     "prompt_number": 44
    },
    {
     "cell_type": "code",
     "collapsed": false,
     "input": [
      "def fcts(T,nt,alpha,dt,dx,dy):\n",
      "    # Defining the midpoint\n",
      "    jmid = int(size(T[:,0])/2.)\n",
      "    imid = int(size(T[0,:])/2.)\n",
      "    for n in range(nt):\n",
      "        Tn = T.copy()\n",
      "        T[1:-1,1:-1] = Tn[1:-1,1:-1] + alpha*dt/dy**2*(Tn[2:,1:-1]-2*Tn[1:-1,1:-1]+Tn[:-2,1:-1])\n",
      "        + alpha*dt/dx**2*(Tn[1:-1,2:]-2*Tn[1:-1,1:-1]+Tn[1:-1,:-2])\n",
      "        \n",
      "        # Neumann BCs\n",
      "        T[-1,:] = T[-2,:]\n",
      "        T[:,-1] = T[:,-2]\n",
      "        \n",
      "        '''if T[jmid,imid] >= 70:\n",
      "            print ('Time of center point reaching 70C is {0:.2f}s.'.format(dt*n))\n",
      "            break\n",
      "    if T[jmid,imid] < 70:\n",
      "            print ('Center of plate has not reached 70C and time is {0:.2f}s'.format(dt*2))'''\n",
      "            \n",
      "    return T"
     ],
     "language": "python",
     "metadata": {},
     "outputs": [],
     "prompt_number": 45
    },
    {
     "cell_type": "code",
     "collapsed": false,
     "input": [
      "L = 1.0E-2\n",
      "H = 1.0E-2\n",
      "\n",
      "nx = 21\n",
      "ny = 21\n",
      "nt = 5000\n",
      "\n",
      "dx = L/(nx-1)\n",
      "dy = H/(ny-1)\n",
      "\n",
      "x = np.linspace(0,L,nx)\n",
      "y = np.linspace(0,H,ny)\n",
      "\n",
      "alpha = 1E-4"
     ],
     "language": "python",
     "metadata": {},
     "outputs": [],
     "prompt_number": 46
    },
    {
     "cell_type": "code",
     "collapsed": false,
     "input": [
      "Ti = np.ones((ny,nx))*20.\n",
      "Ti[0,:] = 100\n",
      "Ti[:,0] = 100"
     ],
     "language": "python",
     "metadata": {},
     "outputs": [],
     "prompt_number": 47
    },
    {
     "cell_type": "code",
     "collapsed": false,
     "input": [
      "sigma = 0.25\n",
      "dt = sigma*min(dx,dy)**2/alpha\n",
      "T = Ti.copy()"
     ],
     "language": "python",
     "metadata": {},
     "outputs": [],
     "prompt_number": 48
    },
    {
     "cell_type": "code",
     "collapsed": false,
     "input": [
      "T = ftcs(T,nt,alpha,dt,dx,dy)"
     ],
     "language": "python",
     "metadata": {},
     "outputs": [
      {
       "output_type": "stream",
       "stream": "stdout",
       "text": [
        "Center of plate reached 70C at time 0.18s.\n"
       ]
      }
     ],
     "prompt_number": 49
    },
    {
     "cell_type": "code",
     "collapsed": false,
     "input": [
      "mx,my = np.meshgrid(x,y)"
     ],
     "language": "python",
     "metadata": {},
     "outputs": [],
     "prompt_number": 50
    },
    {
     "cell_type": "code",
     "collapsed": false,
     "input": [
      "plt.contourf(my,mx,T,20)\n",
      "plt.colorbar();"
     ],
     "language": "python",
     "metadata": {},
     "outputs": [
      {
       "metadata": {},
       "output_type": "display_data",
       "png": "[encoded data removed]",
       "text": [
        "<matplotlib.figure.Figure at 0x8292438>"
       ]
      }
     ],
     "prompt_number": 51
    },
    {
     "cell_type": "code",
     "collapsed": false,
     "input": [],
     "language": "python",
     "metadata": {},
     "outputs": [],
     "prompt_number": 43
    }
   ],
   "metadata": {}
  }
 ]
}