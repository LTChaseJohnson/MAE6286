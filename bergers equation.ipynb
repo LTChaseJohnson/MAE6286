{
 "metadata": {
  "name": "bergers equation.ipynb"
 },
 "nbformat": 3,
 "nbformat_minor": 0,
 "worksheets": [
  {
   "cells": [
    {
     "cell_type": "code",
     "collapsed": false,
     "input": [
      "import numpy as np\n",
      "import sympy\n",
      "from math import *\n",
      "import matplotlib.pyplot as plt\n",
      "from sympy.utilities.lambdify import lambdify\n",
      "from sympy import init_printing\n",
      "init_printing()"
     ],
     "language": "python",
     "metadata": {},
     "outputs": [],
     "prompt_number": 1
    },
    {
     "cell_type": "code",
     "collapsed": false,
     "input": [
      "# Defining Symbolic Equations\n",
      "x, nu, t = sympy.symbols('x nu t')\n",
      "phi = sympy.exp(-(x-4*t)**2/(4*nu*(t+1)))+sympy.exp(-(x-4*t-2*np.pi)**2/(4*nu*(t+1)))\n",
      "phiprimex = phi.diff(x)\n",
      "u = -(2*nu*phiprimex/phi)+4\n",
      "functionu = lambdify((t,x,nu),u)"
     ],
     "language": "python",
     "metadata": {},
     "outputs": [],
     "prompt_number": 2
    },
    {
     "cell_type": "code",
     "collapsed": false,
     "input": [
      "nx = 101\n",
      "nt = 100\n",
      "dx = 2*np.pi/(nx-1)\n",
      "nu = 0.07\n",
      "dt = dx*nu"
     ],
     "language": "python",
     "metadata": {},
     "outputs": [],
     "prompt_number": 3
    },
    {
     "cell_type": "code",
     "collapsed": false,
     "input": [
      "x = np.linspace(0,2*np.pi,nx)\n",
      "un = np.empty(nx)\n",
      "t=0"
     ],
     "language": "python",
     "metadata": {},
     "outputs": [],
     "prompt_number": 4
    },
    {
     "cell_type": "code",
     "collapsed": false,
     "input": [
      "#Creating the compression loop\n",
      "u = np.asarray([functionu(t,x0,nu) for x0 in x])"
     ],
     "language": "python",
     "metadata": {},
     "outputs": [],
     "prompt_number": 5
    },
    {
     "cell_type": "code",
     "collapsed": false,
     "input": [
      "#Plotting Initial Conditions\n",
      "plt.figure(1)\n",
      "plt.plot(x,u)\n",
      "plt.xlim(0,2*np.pi)\n",
      "plt.ylim(0,10)"
     ],
     "language": "python",
     "metadata": {},
     "outputs": [
      {
       "latex": [
        "$$\\begin{pmatrix}0, & 10\\end{pmatrix}$$"
       ],
       "metadata": {},
       "output_type": "pyout",
       "png": "[encoded data removed]",
       "prompt_number": 6,
       "text": [
        "(0, 10)"
       ]
      },
      {
       "metadata": {},
       "output_type": "display_data",
       "png": "[encoded data removed]",
       "text": [
        "<matplotlib.figure.Figure at 0x93c0588>"
       ]
      }
     ],
     "prompt_number": 6
    },
    {
     "cell_type": "code",
     "collapsed": false,
     "input": [
      "#Creating analytical loop solution\n",
      "for n in range(nt):\n",
      "    un = u.copy()\n",
      "    u[1:-1] = un[1:-1]-un[1:-1]*dt/dx*(un[1:-1]-un[:-2])+nu*dt/dx**2*(un[2:]+un[:-2]-2*un[1:-1])\n",
      "    u[0] = un[0]-un[0]*dt/dx*(un[0]-un[-1])+nu*dt/dx**2*(un[1]+un[-1]-2*un[0])\n",
      "    u[-1] = un[-1]-un[-1]*dt/dx*(un[-1]-un[-2])+nu*dt/dx**2*(un[-2]+un[0]-2*un[-1])\n",
      "\n",
      "u_analytical = np.asarray([functionu(nt*dt,xi,nu) for xi in x])"
     ],
     "language": "python",
     "metadata": {},
     "outputs": [],
     "prompt_number": 7
    },
    {
     "cell_type": "code",
     "collapsed": false,
     "input": [
      "#Plotting Solutions\n",
      "plt.figure(2)\n",
      "plt.plot(x,u,label='Computational')\n",
      "plt.plot(x,u_analytical,label='Analytical')\n",
      "plt.xlim(0,2*np.pi)\n",
      "plt.ylim(0,10)\n",
      "plt.legend(loc='best')"
     ],
     "language": "python",
     "metadata": {},
     "outputs": [
      {
       "metadata": {},
       "output_type": "pyout",
       "prompt_number": 8,
       "text": [
        "<matplotlib.legend.Legend at 0x94b5c18>"
       ]
      },
      {
       "metadata": {},
       "output_type": "display_data",
       "png": "[encoded data removed]",
       "text": [
        "<matplotlib.figure.Figure at 0x949c898>"
       ]
      }
     ],
     "prompt_number": 8
    },
    {
     "cell_type": "code",
     "collapsed": false,
     "input": [
      "#Running Timed Animation\n",
      "from JSAnimation.IPython_display import display_animation\n",
      "from matplotlib import animation"
     ],
     "language": "python",
     "metadata": {},
     "outputs": [],
     "prompt_number": 9
    },
    {
     "cell_type": "code",
     "collapsed": false,
     "input": [
      "u = np.asarray([functionu(t,x0,nu) for x0 in x])\n",
      "\n",
      "fig = plt.figure(figsize=(8,6))\n",
      "ax = plt.axes(xlim=(0,2*np.pi), ylim=(0,10))\n",
      "line = ax.plot([], [], 'r', ls='--',lw=3)[0]\n",
      "line2 = ax.plot([] ,[], 'k', lw=2)[0]\n",
      "ax.legend(['Computed','Analytical'])\n",
      "\n",
      "def burgers(n):\n",
      "     un = u.copy()\n",
      "     u[1:-1] = un[1:-1]-un[1:-1]*dt/dx*(un[1:-1]-un[:-2])+nu*dt/dx**2*(un[2:]+un[:-2]-2*un[1:-1])\n",
      "     u[0] = un[0]-un[0]*dt/dx*(un[0]-un[-1])+nu*dt/dx**2*(un[1]+un[-1]-2*un[0])\n",
      "     u[-1] = un[-1]-un[-1]*dt/dx*(un[-1]-un[-2])+nu*dt/dx**2*(un[-2]+un[0]-2*un[-1])\n",
      "     \n",
      "     u_analytical = np.asarray([functionu(n*dt, xi, nu) for xi in x])\n",
      "     line.set_data(x,u)\n",
      "     line2.set_data(x,u_analytical)\n",
      "\n",
      "animation.FuncAnimation(fig, burgers, frames=nt, interval=100)"
     ],
     "language": "python",
     "metadata": {},
     "outputs": [
      {
       "metadata": {},
       "output_type": "pyout",
       "prompt_number": 10,
       "text": [
        "<matplotlib.animation.FuncAnimation at 0x9835eb8>"
       ]
      }
     ],
     "prompt_number": 10
    }
   ],
   "metadata": {}
  }
 ]
}